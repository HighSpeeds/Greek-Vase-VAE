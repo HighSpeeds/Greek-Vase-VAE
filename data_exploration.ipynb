{
 "cells": [
  {
   "cell_type": "code",
   "execution_count": 1,
   "metadata": {},
   "outputs": [],
   "source": [
    "import pandas as pd\n",
    "import numpy as np"
   ]
  },
  {
   "cell_type": "code",
   "execution_count": 4,
   "metadata": {},
   "outputs": [
    {
     "name": "stderr",
     "output_type": "stream",
     "text": [
      "/tmp/ipykernel_39980/1911930804.py:1: DtypeWarning: Columns (14) have mixed types. Specify dtype option on import or set low_memory=False.\n",
      "  df=pd.read_csv(\"export2AFECA4C997C412A93A30CCF60896F16.tsv\", sep='\\t')\n"
     ]
    }
   ],
   "source": [
    "df=pd.read_csv(\"export2AFECA4C997C412A93A30CCF60896F16.tsv\", sep='\\t')"
   ]
  },
  {
   "cell_type": "code",
   "execution_count": 5,
   "metadata": {},
   "outputs": [],
   "source": [
    "# df=pd.read_csv(\"export2AFECA4C997C412A93A30CCF60896F16.tsv\",on_bad_lines='skip',usecols=['URI', 'Vase Number', 'Fabric', 'Technique', 'Sub Technique',\n",
    "#        'Shape Name', 'Provenance', 'Date', 'Inscriptions', ' Attributed To',\n",
    "#        ' Decoration',])"
   ]
  },
  {
   "cell_type": "code",
   "execution_count": 28,
   "metadata": {},
   "outputs": [
    {
     "data": {
      "text/plain": [
       "'Measurements'"
      ]
     },
     "execution_count": 28,
     "metadata": {},
     "output_type": "execute_result"
    }
   ],
   "source": [
    "df.columns[14]"
   ]
  },
  {
   "cell_type": "code",
   "execution_count": 16,
   "metadata": {},
   "outputs": [
    {
     "data": {
      "text/plain": [
       "array(['A,B: TRIPTOLEMOS ON WINGED CHARIOT BETWEEN DEMETER AND PERSEPHONE',\n",
       "       'A: TRIPTOLEMOS SEATED ON CART WITH SHEAVES OF CORN, PERSEPHONE (?), DEMETER, APOLLO PLAYING KITHARA | B: WARRIOR AND CHARIOTEER IN CHARIOT (TURNING), BOTH WITH BOEOTIAN SHIELDS',\n",
       "       'A: WINGED WARRIOR RUNNING OVER SEA WITH FISH AND SHIP (EIDOLON OF ACHILLES ?) WITH BOEOTIAN SHIELD, ROCK WITH BIRD (RAVEN ?), DEVICE, TRIPOD | B: WARRIORS FIGHTING OVER FALLEN WARRIOR | Predella: ANIMAL FRIEZE, LIONS AND BOARS',\n",
       "       ...,\n",
       "       'DRAPED MEN LEANING ON STAFFS, VESSEL (?) | I: WOMAN WITH CUP AT KRATER WITH PSYKTER, PIPESCASE SUSPENDED',\n",
       "       'I: WOMAN HOLDING KALATHOS | WOMEN, SOME SEATED ON STOOLS AT KALATHOI, DRAPED YOUTHS LEANING ON STAFFS, ONE PLAYING PIPES, ONE HOLDING PIPES (?), MIRROR, WRITING TABLET AND SAKKOI OR SASHES SUSPENDED',\n",
       "       'Body: ARTEMIS (?) IN CHARIOT (BIGA) WITH PEGASOS DRAWN BY DEER, GODDESS (WOMAN), TREE'],\n",
       "      dtype=object)"
      ]
     },
     "execution_count": 16,
     "metadata": {},
     "output_type": "execute_result"
    }
   ],
   "source": [
    "df['Decoration'].unique()"
   ]
  },
  {
   "cell_type": "code",
   "execution_count": 24,
   "metadata": {},
   "outputs": [
    {
     "data": {
      "text/plain": [
       "57"
      ]
     },
     "execution_count": 24,
     "metadata": {},
     "output_type": "execute_result"
    }
   ],
   "source": [
    "df['URI'][0].find(\"'http\")"
   ]
  },
  {
   "cell_type": "code",
   "execution_count": 27,
   "metadata": {},
   "outputs": [
    {
     "data": {
      "text/plain": [
       "'http://www.beazley.ox.ac.uk/record/AA1CD952-927D-41D7-B7AF-39520936CF95'"
      ]
     },
     "execution_count": 27,
     "metadata": {},
     "output_type": "execute_result"
    }
   ],
   "source": [
    "df['URI'][0][df['URI'][0].find(\"'http\")+1:df[\"URI\"][0].find(\"');\")]"
   ]
  },
  {
   "cell_type": "code",
   "execution_count": 29,
   "metadata": {},
   "outputs": [
    {
     "data": {
      "text/plain": [
       "(76153, 23)"
      ]
     },
     "execution_count": 29,
     "metadata": {},
     "output_type": "execute_result"
    }
   ],
   "source": [
    "df.shape"
   ]
  },
  {
   "cell_type": "code",
   "execution_count": 30,
   "metadata": {},
   "outputs": [],
   "source": [
    "from bs4 import BeautifulSoup"
   ]
  },
  {
   "cell_type": "code",
   "execution_count": 5,
   "metadata": {},
   "outputs": [],
   "source": [
    "import re\n",
    "import requests\n",
    "from bs4 import BeautifulSoup\n",
    "\n",
    "site = 'https://www.beazley.ox.ac.uk/XDB/ASP/recordDetails.asp?id=AA1CD952-927D-41D7-B7AF-39520936CF95&noResults=&recordCount=&databaseID=&search='\n",
    "\n",
    "response = requests.get(site)\n",
    "\n",
    "soup = BeautifulSoup(response.text, 'html.parser')\n",
    "img_tags = soup.find_all('img')"
   ]
  },
  {
   "cell_type": "code",
   "execution_count": 6,
   "metadata": {},
   "outputs": [
    {
     "data": {
      "text/plain": [
       "[<img alt=\"University of Oxford\" height=\"61\" src=\"/images/headers/brand_marks_for_web1/brand marks for web/ox_brand3_rev_rect.gif\" title=\"External link\" width=\"197\"/>,\n",
       " <img onclick=\"toggleMobileMenu();\" src=\"/images/template/icoMenu.png\"/>,\n",
       " <img class=\"icoSearch\" src=\"/CARCTest15/images/icoSearch.png\">\n",
       " <div class=\"icoSearch\">\n",
       " <input class=\"searchBox\" id=\"SearchString\" maxlength=\"512\" onchange=\"window.location='/searchParent.asp?SearchString=' + encodeURIComponent(getElementById('SearchString').value);\" size=\"15\" style=\"width:100%;\" title=\"Enter the terms you wish to search for\" type=\"text\" value=\"\"/>\n",
       " </div>\n",
       " </img>,\n",
       " <img class=\"icoSearch\" src=\"/CARCTest15/images/icoSearch.png\"/>,\n",
       " <img alt=\"Image\" class=\"noborder\" src=\"/Vases/SPIFF/IMAGES200/GER37/CVA.GER37.1830.2/bc001001.jpe\"/>,\n",
       " <img alt=\"Image\" border=\"1\" class=\"noborder\" height=\"100\" hspace=\"5\" src=\"/Vases/SPIFF/IMAGES200/GER37/CVA.GER37.BEIL.D4/ac001001.jpe\"/>,\n",
       " <img alt=\"Image\" border=\"1\" class=\"noborder\" height=\"100\" hspace=\"5\" src=\"/Vases/SPIFF/IMAGES200/GER37/CVA.GER37.1820.2/ac001001.jpe\"/>,\n",
       " <img alt=\"Image\" border=\"1\" class=\"noborder\" height=\"100\" hspace=\"5\" src=\"/Vases/SPIFF/IMAGES200/GER37/CVA.GER37.1820.1/ac001001.jpe\"/>,\n",
       " <img alt=\"Image\" border=\"1\" class=\"noborder\" height=\"100\" hspace=\"5\" src=\"/Vases/SPIFF/IMAGES200/GER37/CVA.GER37.1816.4/ac001001.jpe\"/>,\n",
       " <img align=\"top\" alt=\"CARC on Facebook\" border=\"0\" height=\"30\" hspace=\"10\" src=\"/images/facebooklogo.gif\" vspace=\"10\" width=\"30\"/>,\n",
       " <img align=\"top\" alt=\"CARC on Twitter\" border=\"0\" height=\"30\" hspace=\"10\" src=\"/images/twitterlogo.gif\" vspace=\"10\" width=\"30\"/>,\n",
       " <img align=\"top\" alt=\"Gandhara Connections on Facebook\" border=\"0\" height=\"30\" hspace=\"10\" src=\"/images/facebooklogo.gif\" vspace=\"10\" width=\"30\"/>,\n",
       " <img align=\"top\" alt=\"Gandhara Connections on Twitter\" border=\"0\" height=\"30\" hspace=\"10\" src=\"/images/twitterlogo.gif\" vspace=\"10\" width=\"30\"/>,\n",
       " <img alt=\"Back to top\" src=\"/images/template/upArrow.png\"/>]"
      ]
     },
     "execution_count": 6,
     "metadata": {},
     "output_type": "execute_result"
    }
   ],
   "source": [
    "img_tags"
   ]
  },
  {
   "cell_type": "code",
   "execution_count": 15,
   "metadata": {},
   "outputs": [
    {
     "data": {
      "text/plain": [
       "['/Vases/SPIFF/IMAGES200/GER37/CVA.GER37.1830.2/bc001001.jpe',\n",
       " '/Vases/SPIFF/IMAGES200/GER37/CVA.GER37.BEIL.D4/ac001001.jpe',\n",
       " '/Vases/SPIFF/IMAGES200/GER37/CVA.GER37.1820.2/ac001001.jpe',\n",
       " '/Vases/SPIFF/IMAGES200/GER37/CVA.GER37.1820.1/ac001001.jpe',\n",
       " '/Vases/SPIFF/IMAGES200/GER37/CVA.GER37.1816.4/ac001001.jpe']"
      ]
     },
     "execution_count": 15,
     "metadata": {},
     "output_type": "execute_result"
    }
   ],
   "source": [
    "urls = [img['src'] for img in img_tags if '.jpe' in img['src']]\n",
    "urls"
   ]
  },
  {
   "cell_type": "code",
   "execution_count": 17,
   "metadata": {},
   "outputs": [
    {
     "name": "stdout",
     "output_type": "stream",
     "text": [
      "Image sucessfully Downloaded:  0.jpe\n",
      "Image sucessfully Downloaded:  1.jpe\n",
      "Image sucessfully Downloaded:  2.jpe\n",
      "Image sucessfully Downloaded:  3.jpe\n",
      "Image sucessfully Downloaded:  4.jpe\n"
     ]
    }
   ],
   "source": [
    "## Importing Necessary Modules\n",
    "import requests # to get image from the web\n",
    "import shutil # to save it locally\n",
    "\n",
    "for i,image in enumerate(urls):\n",
    "    ## Set up the image URL and filename\n",
    "    image_url= 'https://www.beazley.ox.ac.uk'+image\n",
    "\n",
    "    filename = f\"{i}.jpe\"\n",
    "\n",
    "    # Open the url image, set stream to True, this will return the stream content.\n",
    "    r = requests.get(image_url, stream = True)\n",
    "\n",
    "    # Check if the image was retrieved successfully\n",
    "    if r.status_code == 200:\n",
    "        # Set decode_content value to True, otherwise the downloaded image file's size will be zero.\n",
    "        r.raw.decode_content = True\n",
    "        \n",
    "        # Open a local file with wb ( write binary ) permission.\n",
    "        with open(filename,'wb') as f:\n",
    "            shutil.copyfileobj(r.raw, f)\n",
    "            \n",
    "        print('Image sucessfully Downloaded: ',filename)\n",
    "    else:\n",
    "        print('Image Couldn\\'t be retreived')"
   ]
  },
  {
   "cell_type": "code",
   "execution_count": 14,
   "metadata": {},
   "outputs": [
    {
     "name": "stdout",
     "output_type": "stream",
     "text": [
      "Image sucessfully Downloaded:  bc001001.jpe\n"
     ]
    }
   ],
   "source": [
    "## Importing Necessary Modules\n",
    "import requests # to get image from the web\n",
    "import shutil # to save it locally\n",
    "\n",
    "## Set up the image URL and filename\n",
    "image_url= 'https://www.beazley.ox.ac.uk'+'/Vases/SPIFF/IMAGES200/GER37/CVA.GER37.1830.2/bc001001.jpe'\n",
    "\n",
    "filename = image_url.split(\"/\")[-1]\n",
    "\n",
    "# Open the url image, set stream to True, this will return the stream content.\n",
    "r = requests.get(image_url, stream = True)\n",
    "\n",
    "# Check if the image was retrieved successfully\n",
    "if r.status_code == 200:\n",
    "    # Set decode_content value to True, otherwise the downloaded image file's size will be zero.\n",
    "    r.raw.decode_content = True\n",
    "    \n",
    "    # Open a local file with wb ( write binary ) permission.\n",
    "    with open(filename,'wb') as f:\n",
    "        shutil.copyfileobj(r.raw, f)\n",
    "        \n",
    "    print('Image sucessfully Downloaded: ',filename)\n",
    "else:\n",
    "    print('Image Couldn\\'t be retreived')"
   ]
  },
  {
   "cell_type": "code",
   "execution_count": 35,
   "metadata": {},
   "outputs": [],
   "source": [
    "from PIL import Image\n",
    "import PIL\n",
    "import numpy as np\n",
    "image = Image.open(\"Data/Images/0A3ACF3C-2DB5-4EAF-94CB-E405A359ED5F/0.jpe\")\n",
    "image.show()"
   ]
  },
  {
   "cell_type": "code",
   "execution_count": 30,
   "metadata": {},
   "outputs": [
    {
     "data": {
      "text/plain": [
       "(280, 118)"
      ]
     },
     "execution_count": 30,
     "metadata": {},
     "output_type": "execute_result"
    }
   ],
   "source": [
    "image.size"
   ]
  },
  {
   "cell_type": "code",
   "execution_count": 31,
   "metadata": {},
   "outputs": [],
   "source": [
    "if image.size[0] > image.size[1]:\n",
    "    image=image.resize((256,int(image.size[1]*256/image.size[0])))\n",
    "else:\n",
    "    image=image.resize((int(image.size[0]*256/image.size[1]),256))"
   ]
  },
  {
   "cell_type": "code",
   "execution_count": 32,
   "metadata": {},
   "outputs": [
    {
     "data": {
      "text/plain": [
       "(256, 107)"
      ]
     },
     "execution_count": 32,
     "metadata": {},
     "output_type": "execute_result"
    }
   ],
   "source": [
    "image.size"
   ]
  },
  {
   "cell_type": "code",
   "execution_count": 33,
   "metadata": {},
   "outputs": [],
   "source": [
    "image.show()"
   ]
  },
  {
   "cell_type": "code",
   "execution_count": 37,
   "metadata": {},
   "outputs": [
    {
     "data": {
      "image/png": "[encoded data removed]",
      "text/plain": [
       "<PIL.Image.Image image mode=L size=256x256 at 0x7FA7AEEED3D0>"
      ]
     },
     "execution_count": 37,
     "metadata": {},
     "output_type": "execute_result"
    }
   ],
   "source": [
    "PIL.ImageOps.pad(image, (256,256),color=image.getpixel((0,0)))"
   ]
  },
  {
   "cell_type": "code",
   "execution_count": 2,
   "metadata": {},
   "outputs": [
    {
     "data": {
      "text/plain": [
       "array([[4.04738577e-320, 2.64819186e-321, 0.00000000e+000, ...,\n",
       "        4.66618032e-310, 6.92810406e-310, 6.92814894e-310],\n",
       "       [6.92810406e-310, 4.66618032e-310, 1.97626258e-323, ...,\n",
       "        9.88131292e-324, 1.27319747e-313, 1.69759663e-313],\n",
       "       [1.03753786e-322, 4.66618032e-310, 6.92814909e-310, ...,\n",
       "        4.66618032e-310, 9.88131292e-324, 4.66618032e-310],\n",
       "       ...,\n",
       "       [0.00000000e+000, 0.00000000e+000, 0.00000000e+000, ...,\n",
       "        0.00000000e+000, 0.00000000e+000, 0.00000000e+000],\n",
       "       [0.00000000e+000, 0.00000000e+000, 0.00000000e+000, ...,\n",
       "        0.00000000e+000, 0.00000000e+000, 0.00000000e+000],\n",
       "       [0.00000000e+000, 0.00000000e+000, 0.00000000e+000, ...,\n",
       "        0.00000000e+000, 0.00000000e+000, 0.00000000e+000]])"
      ]
     },
     "execution_count": 2,
     "metadata": {},
     "output_type": "execute_result"
    }
   ],
   "source": [
    "from tsnecuda import TSNE\n",
    "import numpy as np\n",
    "\n",
    "Array=np.empty((256,10))\n",
    "\n",
    "Array"
   ]
  },
  {
   "cell_type": "code",
   "execution_count": 3,
   "metadata": {},
   "outputs": [
    {
     "ename": "",
     "evalue": "",
     "output_type": "error",
     "traceback": [
      "\u001b[1;31mCanceled future for execute_request message before replies were done"
     ]
    },
    {
     "ename": "",
     "evalue": "",
     "output_type": "error",
     "traceback": [
      "\u001b[1;31mThe Kernel crashed while executing code in the the current cell or a previous cell. Please review the code in the cell(s) to identify a possible cause of the failure. Click <a href='https://aka.ms/vscodeJupyterKernelCrash'>here</a> for more info. View Jupyter <a href='command:jupyter.viewOutput'>log</a> for further details."
     ]
    }
   ],
   "source": [
    "A=TSNE(n_components=2).fit_transform(Array)"
   ]
  },
  {
   "cell_type": "code",
   "execution_count": null,
   "metadata": {},
   "outputs": [],
   "source": []
  }
 ],
 "metadata": {
  "kernelspec": {
   "display_name": "Python 3.9.12",
   "language": "python",
   "name": "python3"
  },
  "language_info": {
   "codemirror_mode": {
    "name": "ipython",
    "version": 3
   },
   "file_extension": ".py",
   "mimetype": "text/x-python",
   "name": "python",
   "nbconvert_exporter": "python",
   "pygments_lexer": "ipython3",
   "version": "3.9.12"
  },
  "orig_nbformat": 4,
  "vscode": {
   "interpreter": {
    "hash": "9765603ce97f2a42cb841f1738ff93df698dc4f6fb4ff3dec237220abbbf8f84"
   }
  }
 },
 "nbformat": 4,
 "nbformat_minor": 2
}
